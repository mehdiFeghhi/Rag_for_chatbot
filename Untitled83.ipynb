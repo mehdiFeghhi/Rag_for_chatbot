{
  "nbformat": 4,
  "nbformat_minor": 0,
  "metadata": {
    "colab": {
      "provenance": [],
      "gpuType": "T4"
    },
    "kernelspec": {
      "name": "python3",
      "display_name": "Python 3"
    },
    "language_info": {
      "name": "python"
    },
    "accelerator": "GPU"
  },
  "cells": [
    {
      "cell_type": "code",
      "execution_count": null,
      "metadata": {
        "id": "M5HQ5ho3AAU5"
      },
      "outputs": [],
      "source": [
        "!pip install transformers faiss-cpu datasets sentence-transformers"
      ]
    },
    {
      "cell_type": "code",
      "source": [
        "!pip3 install hugchat"
      ],
      "metadata": {
        "id": "wE3GkGJRI_kY"
      },
      "execution_count": null,
      "outputs": []
    },
    {
      "cell_type": "code",
      "source": [
        "import random\n",
        "import time\n",
        "\n",
        "import faiss\n",
        "import numpy as np\n",
        "\n",
        "from hugchat import hugchat\n",
        "from hugchat.login import Login\n",
        "from datasets import Dataset\n",
        "from sentence_transformers import SentenceTransformer"
      ],
      "metadata": {
        "id": "8S14h91sJBzn"
      },
      "execution_count": 26,
      "outputs": []
    },
    {
      "cell_type": "code",
      "source": [
        "EMAIL = \"k44441234@gmail.com\"\n",
        "PASSWD = \"7EDtXBZ4BphV6ik\"\n",
        "cookie_path_dir = \"./cookies/\"\n",
        "sign = Login(EMAIL, PASSWD)\n",
        "cookies = sign.login(cookie_dir_path=cookie_path_dir, save_cookies=True)"
      ],
      "metadata": {
        "id": "PQOupfUJABU9"
      },
      "execution_count": 27,
      "outputs": []
    },
    {
      "cell_type": "code",
      "source": [
        "chatbot = hugchat.ChatBot(cookies=cookies.get_dict())"
      ],
      "metadata": {
        "id": "mWvRYwJMJ02h"
      },
      "execution_count": 28,
      "outputs": []
    },
    {
      "cell_type": "code",
      "source": [
        "models = chatbot.get_available_llm_models()"
      ],
      "metadata": {
        "id": "Y7SgGbN8J3PY"
      },
      "execution_count": 29,
      "outputs": []
    },
    {
      "cell_type": "code",
      "source": [
        "for model in models:\n",
        "    print(model.displayName)"
      ],
      "metadata": {
        "colab": {
          "base_uri": "https://localhost:8080/"
        },
        "id": "y2jxlQuvJ3SB",
        "outputId": "122c0dbd-825c-4703-f890-dca21079aa6a"
      },
      "execution_count": 44,
      "outputs": [
        {
          "output_type": "stream",
          "name": "stdout",
          "text": [
            "meta-llama/Meta-Llama-3.1-70B-Instruct\n",
            "meta-llama/Meta-Llama-3.1-405B-Instruct-FP8\n",
            "CohereForAI/c4ai-command-r-plus\n",
            "mistralai/Mixtral-8x7B-Instruct-v0.1\n",
            "NousResearch/Nous-Hermes-2-Mixtral-8x7B-DPO\n",
            "01-ai/Yi-1.5-34B-Chat\n",
            "mistralai/Mistral-7B-Instruct-v0.3\n",
            "microsoft/Phi-3-mini-4k-instruct\n"
          ]
        }
      ]
    },
    {
      "cell_type": "code",
      "source": [
        "chatbot.switch_llm(1)"
      ],
      "metadata": {
        "colab": {
          "base_uri": "https://localhost:8080/"
        },
        "id": "ISbmpp7UJ3WB",
        "outputId": "a0b7ac0c-86dd-4dab-f44f-8c118557d803"
      },
      "execution_count": 31,
      "outputs": [
        {
          "output_type": "execute_result",
          "data": {
            "text/plain": [
              "True"
            ]
          },
          "metadata": {},
          "execution_count": 31
        }
      ]
    },
    {
      "cell_type": "code",
      "source": [
        "chatbot.active_model.displayName"
      ],
      "metadata": {
        "colab": {
          "base_uri": "https://localhost:8080/",
          "height": 36
        },
        "id": "E6D7wF7vKEJG",
        "outputId": "4d7b2540-8caf-46d3-93a2-b79b7b916a27"
      },
      "execution_count": 32,
      "outputs": [
        {
          "output_type": "execute_result",
          "data": {
            "text/plain": [
              "'meta-llama/Meta-Llama-3.1-405B-Instruct-FP8'"
            ],
            "application/vnd.google.colaboratory.intrinsic+json": {
              "type": "string"
            }
          },
          "metadata": {},
          "execution_count": 32
        }
      ]
    },
    {
      "cell_type": "code",
      "source": [
        "file_path = \"/content/documents.txt\"\n",
        "\n",
        "# Function to load documents from a file\n",
        "def load_documents(file_path):\n",
        "    with open(file_path, 'r', encoding='utf-8') as file:\n",
        "        documents = file.readlines()\n",
        "    documents = [doc.strip() for doc in documents]  # Remove any leading/trailing whitespace\n",
        "    return documents\n",
        "\n",
        "# Load documents from file\n",
        "documents = load_documents('documents.txt')"
      ],
      "metadata": {
        "id": "PIAI7o9juAu9"
      },
      "execution_count": null,
      "outputs": []
    },
    {
      "cell_type": "code",
      "source": [
        "# Encode the documents using a Persian sentence transformer\n",
        "embedder = SentenceTransformer('HooshvareLab/bert-fa-base-uncased')\n",
        "\n",
        "# Encode the documents\n",
        "document_embeddings = embedder.encode(documents, convert_to_numpy=True)\n",
        "\n",
        "# Build the FAISS index\n",
        "index = faiss.IndexFlatL2(document_embeddings.shape[1])\n",
        "index.add(document_embeddings)"
      ],
      "metadata": {
        "colab": {
          "base_uri": "https://localhost:8080/"
        },
        "id": "6onEQhibABSW",
        "outputId": "c52f03b4-d119-4573-d2d5-055ced450823"
      },
      "execution_count": 45,
      "outputs": [
        {
          "output_type": "stream",
          "name": "stderr",
          "text": [
            "WARNING:sentence_transformers.SentenceTransformer:No sentence-transformers model found with name HooshvareLab/bert-fa-base-uncased. Creating a new one with mean pooling.\n"
          ]
        }
      ]
    },
    {
      "cell_type": "code",
      "source": [
        "def retrieve(query, top_k=5):\n",
        "    query_embedding = embedder.encode([query], convert_to_numpy=True)\n",
        "    _, indices = index.search(query_embedding, top_k)\n",
        "    return [documents[i] for i in indices[0]]\n",
        "\n",
        "def generate_answer(question, context):\n",
        "    prompt = f\"\"\"متن: {context}\n",
        "    تنها با توجه به متن بالا یه سوال پاسخ بده\n",
        "    سوال: {question} \"\"\"\n",
        "    answer = chatbot.chat(prompt)\n",
        "    return answer\n",
        "\n",
        "x= None\n",
        "def rag(question, top_k=5):\n",
        "    retrieved_docs = retrieve(question, top_k)\n",
        "    for item in retrieved_docs:\n",
        "      print(item)\n",
        "      print(\"-\"*25)\n",
        "    print(\"#\"*25)\n",
        "    combined_context = \" \".join(retrieved_docs)\n",
        "    answer = generate_answer(question, combined_context)\n",
        "    return answer\n",
        "\n",
        "# Example usage\n",
        "question = \"بهترین کشور برای ثبت شرکت و دلایل آن\"\n",
        "answer = rag(question)\n",
        "print(f\"Question: {question}\\nAnswer: {answer}\")\n"
      ],
      "metadata": {
        "colab": {
          "base_uri": "https://localhost:8080/"
        },
        "id": "RVNDzY3-ABZk",
        "outputId": "df024037-4e5a-4212-810d-cfc2805d2fbe"
      },
      "execution_count": 66,
      "outputs": [
        {
          "output_type": "stream",
          "name": "stdout",
          "text": [
            "بهترین کشورها برای ثبت شرکت کدامند؟\n",
            "-------------------------\n",
            "بهترین کشور برای مهعاجرت کاری کدام است؟\n",
            "-------------------------\n",
            "14. بهترین کشور برای انواع راه های مهاجرت کدامند؟\n",
            "-------------------------\n",
            "ثبت شرکت یکی از بهترین راه های مهاجرت با سرمایه گذاری است. چرا؟ چون:\n",
            "-------------------------\n",
            "بر اساس آنچه که گفتیم، بهترین کشور برای روش های مختلف مهاجرت را می‌توان آلمان معرفی کرد. آلمان خصوصاً برای تحصیل و کار بهترین شرایط را برای شما فراهم می‌کند. از مزایای مهاجرت به آلمان می‌توان به موارد زیر اشاره کرد:\n",
            "-------------------------\n",
            "#########################\n",
            "Question: بهترین کشور برای ثبت شرکت و دلایل آن\n",
            "Answer: متأسفانه در متن هیچ اطلاعاتی در مورد بهترین کشور برای ثبت شرکت وجود ندارد، اما بهترین کشور برای روش های مختلف مهاجرت را می‌توان آلمان معرفی کرد.\n"
          ]
        }
      ]
    },
    {
      "cell_type": "code",
      "source": [
        "print(x)"
      ],
      "metadata": {
        "colab": {
          "base_uri": "https://localhost:8080/"
        },
        "id": "9K5H-cghBG7B",
        "outputId": "e041414d-df97-4e8e-f921-94163ad434dc"
      },
      "execution_count": 60,
      "outputs": [
        {
          "output_type": "stream",
          "name": "stdout",
          "text": [
            "None\n"
          ]
        }
      ]
    }
  ]
}